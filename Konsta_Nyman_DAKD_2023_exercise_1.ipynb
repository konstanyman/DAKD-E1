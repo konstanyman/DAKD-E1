{
  "cells": [
    {
      "cell_type": "markdown",
      "metadata": {
        "id": "ebFJO6fm_kpx"
      },
      "source": [
        "<div class=\"alert alert-block alert-warning\">\n",
        "    <h1><center> DAKD 2023 EXERCISE 1: DATA UNDERSTANDING  </center></h1>"
      ]
    },
    {
      "cell_type": "markdown",
      "metadata": {
        "id": "gxF0BYhu_kpz"
      },
      "source": [
        "This exercise relates to the _data understanding_ and  _data preparation_ stages of the Crisp Data Mining (CRISP-DM) model presented on the course. The questions at this stage of a data-analysis project are for example:\n",
        "\n",
        "- Is the data quality sufficient?\n",
        "- How can we check the data for problems?\n",
        "- How do we have to clean the data?\n",
        "- How is the data best transformed for modeling?\n",
        "\n",
        "It may be tempting to just run a model on data without checking it. However, not doing basic checks can ruin your whole analysis and make your results invalid as well as mislead you in further analyses. There is no excuse for not plotting and checking that the data is as we expect and clean. In this exercise we do just that, check the validity of data and familiarize ourselves with a dataset, also discussing preprocessing and multi-dimensional plotting.\n",
        "\n",
        "------------"
      ]
    },
    {
      "cell_type": "markdown",
      "metadata": {
        "id": "XsFBKSsU_kpz"
      },
      "source": [
        "### <font color = red> *** FILL YOUR INFORMATION BELOW *** </font>\n",
        "Konsta Nyman <br>\n",
        "523834 <br>\n",
        "kokany@utu.fi  <br>\n",
        "6.11.2023  <br>"
      ]
    },
    {
      "cell_type": "markdown",
      "metadata": {
        "id": "W3jIT0S_3BPb"
      },
      "source": [
        "\n",
        "#### General guidance for exercises\n",
        "\n",
        "-  You can add more code and markup cells, as long as the flow of the notebook stays readable and logical.\n",
        "- Answer **all** questions (except the bonus if you do not want to attempt it), even if you can't get your script to fully work\n",
        "- Write clear and easily readable code, include explanations of what your code does\n",
        "- Make informative illustrations: include labels for x and y axes, legends and captions for your plots\n",
        "- Before saving the ipynb file (and possible printing) run: \"Restart & Run all\", to make sure you return a file that works as expected.\n",
        "- Grading: *Fail*/*Pass*/*Pass with honors* (+1)\n",
        "- If you encounter problems, Google first. If you can't find an answer to the problem, don't hesitate to ask in the Moodle discussion or directly via moodle chat.\n",
        "- It's important to know that while the use of ChatGPT to generate solutions can be very tempting, the main purpose of the exercices is to suppport the learning process. And so if you do end up using generative AI models, it is important to avoid direct copy-paste without first understanding the generated code, instead make sure to write a short description of how you used ChatGPT in the context of these exercises (what was your input, how did you benefit from the output?)\n",
        "- When submitting the exercice, make sure to return both an **ipynb-file** as well as an **html-file**. Your .ipynb notebook is expected to be run to completion, which means that it should execute without errors when all cells are run in sequence.\n",
        "- Don't leave it to the last moment! No feedback service during weekends."
      ]
    },
    {
      "cell_type": "markdown",
      "metadata": {
        "id": "2I2WLapM3BPc"
      },
      "source": [
        "### <font color = red> Packages needed for this exercise: </font>\n",
        "- The exercise can be done without importing any extra packages, but you can import new ones but bear in mind that if you are importing many new packages, you may be complicating your answer."
      ]
    },
    {
      "cell_type": "code",
      "execution_count": 1,
      "metadata": {
        "id": "kNsRA1WF3BPc"
      },
      "outputs": [],
      "source": [
        "# --- Libraries with a short description ---\n",
        "import pandas as pd # for data manipulation\n",
        "import matplotlib.pyplot as plt # for plotting\n",
        "import numpy as np #for numeric calculations and making simulated data.\n",
        "import seaborn as sns # for plotting, an extension on matplotlib\n",
        "\n",
        "# - sklearn has many data analysis utility functions like scaling as well as a large variety of modeling tools.\n",
        "from sklearn.decomposition import PCA\n",
        "from sklearn.preprocessing import StandardScaler\n",
        "from sklearn.preprocessing import minmax_scale\n",
        "from sklearn.preprocessing import scale\n",
        "from sklearn.manifold import TSNE\n",
        "\n",
        "# This forces plots to be shown inline in the notebook\n",
        "%matplotlib inline"
      ]
    },
    {
      "cell_type": "markdown",
      "metadata": {
        "id": "o3M5VL93_kp0"
      },
      "source": [
        "\n",
        "<div class=\"alert alert-block alert-warning\">\n",
        "    <h1><center> PLOTTING TUTORIAL </center></h1>"
      ]
    },
    {
      "cell_type": "markdown",
      "metadata": {
        "id": "Gbz5Zwg__kp1"
      },
      "source": [
        "This small explanation of the matplotlib package aims to avoid confusion and help you avoid common mistakes and frustration. Matplotlib is an object-oriented plotting package with the benefit of giving the user a lot of control. The downside is that it can be confusing to new users. **If you are having problems with the plotting exercises, return to this tutorial as it explains the needed concepts to do the exercises!**\n",
        "\n",
        "-----------"
      ]
    },
    {
      "cell_type": "markdown",
      "metadata": {
        "id": "8gy1EQA4_kp1"
      },
      "source": [
        "###  Figure and axes\n",
        "\n",
        "\n",
        "All plots in matplotlib are structured with the **<font color = dimgrey> figure </font>** and **<font color = blue> axes </font>** objects.\n",
        "\n",
        "- The **<font color = dimgrey> figure </font>** object is a container for all plotting elements (in other words, everything we see).  \n",
        "- A figure can have many **<font color = blue> axes </font>**. They are the objects you plot on to. The axes can be anywhere inside the figure and can even overlap. Position of axes is defined relative to the figure.\n",
        "\n",
        "The **<font color = blue> axes </font>** objects have the methods you will use to define most of your plots. For example axes.hist() is used to draw a histogram and axes.set_title() to give one axes a title. The name of the object can be a bit confusing as it does not refer to the axes in the way \"x-axis\" does but to the container of a single plot.\n",
        "\n",
        "\n",
        "--------------\n",
        "     \n",
        "- Below is an example that illustrates how **<font color = dimgrey> figures </font>** and **<font color = blue> axes </font>** work together in matplotlib. The comments explain what is done in every row of code. <font color = green> You are encouraged to play around with it, but its not required in terms of the exercise </font>. Below, we will create all figures and axes separately, but later on we will use a quicker way to do so.\n",
        "\n",
        " This is not yet a part of the exercises themselves and you do not need to change anything !"
      ]
    },
    {
      "cell_type": "code",
      "execution_count": 2,
      "metadata": {
        "id": "ob9ChAk9_kp1"
      },
      "outputs": [],
      "source": [
        "#  --- Lets make some example data. ---\n",
        "x_example_data = np.linspace(0,5,10)\n",
        "y_example_data = x_example_data**2"
      ]
    },
    {
      "cell_type": "code",
      "execution_count": 3,
      "metadata": {
        "colab": {
          "base_uri": "https://localhost:8080/",
          "height": 570
        },
        "id": "OCL3qtCe_kp1",
        "outputId": "522216c4-351f-4042-cc26-336cd690b342",
        "scrolled": true
      },
      "outputs": [
        {
          "data": {
            "text/plain": [
              "Text(3, 5, 'This is a text object relative to the inner axes')"
            ]
          },
          "execution_count": 3,
          "metadata": {},
          "output_type": "execute_result"
        },
        {
          "data": {
            "image/png": "[encoded data removed]",
            "text/plain": [
              "<Figure size 500x500 with 2 Axes>"
            ]
          },
          "metadata": {},
          "output_type": "display_data"
        }
      ],
      "source": [
        "### Create a figure ###\n",
        "example_figure = plt.figure(figsize =(5,5)) #you give the size of the figure as a tuple of inches\n",
        "\n",
        "### Create an axes separately and add it to the figure ###\n",
        "example_axes_outer = example_figure.add_axes([0.1, 0.1, 0.9, 0.9]) #the argument gives the relative location of the axes in percentage from the corners of the figure. The order is left, bottom, right, top.\n",
        "\n",
        "### Set labels and titles to the axes ###\n",
        "example_axes_outer.set_xlabel(\"This is how you set an x-axis label to an axes\")\n",
        "example_axes_outer.set_ylabel(\"The y-label of an axes is set like this\")\n",
        "example_axes_outer.set_title(\"We learned how to give an axes a title!\")\n",
        "example_axes_inner = example_figure.add_axes([0.45, 0.45, 0.4, 0.3])\n",
        "example_axes_inner.set_title(\"This axes has a title too\")\n",
        "\n",
        "### Add something to the axes ###\n",
        "example_axes_inner.scatter(x_example_data, y_example_data)\n",
        "\n",
        "# Multiple things, like lines can be plotted on same axis.\n",
        "example_axes_outer.plot(x_example_data**4, y_example_data**2)\n",
        "example_axes_outer.plot(x_example_data**7, y_example_data**2)\n",
        "\n",
        "# If you want to add other objects, you add them to axes too, like text\n",
        "# Now you specify the location relative to the parent axes\n",
        "example_axes_inner.text(3, 5, \"This is a text object relative to the inner axes\")\n",
        "\n",
        "#Many more things can be added to axes in a similar way, not just text.\n",
        "#For more information there are many good tutorials available for example in youtube."
      ]
    },
    {
      "cell_type": "markdown",
      "metadata": {
        "id": "dnxKiFY__kp2"
      },
      "source": [
        "###  Subplots: creating multiple axes and placing them in a grid on the figure\n",
        "An established convention of using matplotlib is to start plotting by calling the **<font color = blue> plt.subplots </font>** function, which automatically creates a figure and a determined number of axes in a grid inside it and automatically links the axes to the figure. Even when creating just one axes this is a often used way to start making a plot.\n",
        "\n",
        "The most important arguments to **<font color = blue> plt.subplots </font>** are **nrows**, **ncols**, **figsize**, **sharex** and **sharey**\n",
        "- **nrows** controls how many subplots there will be in the grid by row, **ncol** controls the number of columns\n",
        "- **figsize** is a tuple e.g (1,5) which controls the size of the **<font color = dimgrey> figure </font>**, first is width and then height.\n",
        "- sharex (True, False) tells matplotlib whether all axes in the grid should have same x-axis scale and ticks, sharey does the same for all y.\n",
        "\n",
        "--------\n",
        "Below an example on creating subplots is presented. There is also a template-like example on how to fill the subplots in a loop using the  **enumerate** function of python for indexing into the subplots. The function **enumerate()** will give you an additional int indexer over the object you are looping over. This indexer can be used to loop over the different subplot elements like the axes for each of the subplots.\n",
        "\n",
        "**<font color = dimgrey> plt.tight_layout() </font>** is also a good command to know with subplots. It attempts to automatically arrange the different axes in a pretty way. It should be called after the plot is finished."
      ]
    },
    {
      "cell_type": "code",
      "execution_count": 4,
      "metadata": {
        "id": "dMv8JToS_kp2"
      },
      "outputs": [],
      "source": [
        "# ----- Create some random data for the example, 3 continuous numeric features and 3 binary -----\n",
        "#dont worry about understanding the function, it creates lists and is shorthand for a for loop called list comprehension.\n",
        "numeric_datas = [np.random.rand(10,2) for _ in range(0,3)] #this creates list of lists of linear data, using list comprehension\n",
        "binary_datas = [(np.unique(np.random.randint(0, 2, size= 10), return_counts = True)[1]) for _ in range(0,3)] # create list of lists of samples of 0,1 like (co"
      ]
    },
    {
      "cell_type": "code",
      "execution_count": 5,
      "metadata": {
        "colab": {
          "base_uri": "https://localhost:8080/",
          "height": 512
        },
        "id": "E9F1xhXN_kp2",
        "outputId": "939d4014-c1f9-445d-e777-31977eafb9e0"
      },
      "outputs": [
        {
          "name": "stderr",
          "output_type": "stream",
          "text": [
            "C:\\Users\\Lenovo\\AppData\\Local\\Temp\\ipykernel_22312\\2861419300.py:23: UserWarning: The figure layout has changed to tight\n",
            "  plt.tight_layout()\n"
          ]
        },
        {
          "data": {
            "image/png": "[encoded data removed]",
            "text/plain": [
              "<Figure size 1000x500 with 6 Axes>"
            ]
          },
          "metadata": {},
          "output_type": "display_data"
        }
      ],
      "source": [
        "# Create figure with six axes in a 2*3 grid and set up titles --------------------------------------------------------\n",
        "fig, axes = plt.subplots(2,3, figsize = (10,5)) # now axes have indexes like axes[i, j]\n",
        "numeric_plot_titles = ['scatter_plot_1', 'a second plot', 'yet a third plot' ]#some titles for the different axes\n",
        "binary_plot_titles = ['coin_tosses1', 'tossing again', 'still tossing' ]#some titles for the different axes\n",
        "\n",
        "\n",
        "# Enumerate the index into the axes, fill the first 3 columns of first row with scatterplots of numeric_datas --------\n",
        "i = 0 # for indexing to the row of the axes [**i**, j]\n",
        "for j, numeric_data in enumerate(numeric_datas): # j = [0,1, ... n_datasets] for filling the columns, i stays constant as its the row\n",
        "    axes[i, j].scatter(x = numeric_data[:, 0], y = numeric_data[:, 1]) #plots are called on the axes\n",
        "    axes[i, j].set_title(numeric_plot_titles[j]) #set a title for each axes\n",
        "plt.tight_layout()\n",
        "\n",
        "\n",
        "# Plot the binary data -----------------------------------------------------------------------------------------------\n",
        "i = 1 # second row\n",
        "for j, binary_data in enumerate(binary_datas): # j = [0,1, ... n_datasets] for filling the columns, i stays constant as its the row\n",
        "    axes[i, j].bar(x = [\"0\",\"1\"], height = binary_data) #make a barplot\n",
        "    axes[i, j].set_title(binary_plot_titles[j]) #set a title for each axes\n",
        "    axes[i, j].set_ylim((0,10)) # set the yaxis limits, set_xlim works the same way.\n",
        "\n",
        "fig.suptitle(\"fig.suptitle gives the figure a title and axes.set_title the axes\")\n",
        "plt.tight_layout()"
      ]
    },
    {
      "cell_type": "markdown",
      "metadata": {
        "id": "ZLR7YeuY_kp3"
      },
      "source": [
        "####  <font color = maroon> Seaborn and matplotlib </font>\n",
        "- Finally, it is good to know, that the popular Seaborn plotting library is based on matplotlib, and was designed to be an extension of it and to be more user-friendly and faster to use.  \n",
        "\n",
        "- One tip in particular that might help new users with seaborn is that two kinnds of plotting functions: for figure-level and axes-level plots. Axes level plots can be put into subplots like matplotlib plots as you saw in the example above whereas figure-level plots are done completely with seaborn. (For more information on this see https://seaborn.pydata.org/tutorial/function_overview.html)\n",
        "\n",
        "- For axes-level plots, the matplotlib-axes object is usually given to the seaborn plotting function as an argument. There is an example below."
      ]
    },
    {
      "cell_type": "code",
      "execution_count": 6,
      "metadata": {
        "colab": {
          "base_uri": "https://localhost:8080/",
          "height": 448
        },
        "id": "L7xXByP1_kp3",
        "outputId": "da60578a-9c4b-476e-b060-bdb627bc818b"
      },
      "outputs": [
        {
          "data": {
            "text/plain": [
              "<Axes: ylabel='Count'>"
            ]
          },
          "execution_count": 6,
          "metadata": {},
          "output_type": "execute_result"
        },
        {
          "data": {
            "image/png": "[encoded data removed]",
            "text/plain": [
              "<Figure size 640x480 with 2 Axes>"
            ]
          },
          "metadata": {},
          "output_type": "display_data"
        }
      ],
      "source": [
        "fig, axes = plt.subplots(2)\n",
        "\n",
        "# make some data\n",
        "random_data_a = np.random.rand(30)\n",
        "random_data_b = np.random.rand(100)\n",
        "\n",
        "# print the data we are plotting\n",
        "sns.histplot(data = random_data_a, ax = axes[0]) # we make a seaborn plot and put it into one of the axes we created\n",
        "sns.histplot(data =  random_data_b, ax = axes[1]) # we make a seaborn plot and put it into one of the axes we created"
      ]
    },
    {
      "cell_type": "markdown",
      "metadata": {
        "id": "xKfVHL9__kp3"
      },
      "source": [
        "\n",
        "<div class=\"alert alert-block alert-warning\">\n",
        "    <h1><center> START OF EXERCISES </center></h1>"
      ]
    },
    {
      "cell_type": "markdown",
      "metadata": {
        "id": "8AZs1Rdr3BPd"
      },
      "source": [
        "##  <font color = dimgrey> 1. Introduction to the dataset </font>"
      ]
    },
    {
      "cell_type": "markdown",
      "metadata": {
        "id": "2Y4dstDz3BPe"
      },
      "source": [
        "The dataset in this exercice contains comprehensive health information from  hospital patients with and without cardiovascular disease. The target variable \"cardio,\" reflects the presence or absence of the disease, which is characterized by a buildup of fatty deposits inside the arteries (blood vessels) of the heart.\n",
        "\n",
        " -------\n",
        "As is often the case with data analysis projects, the features/variables have been retrieved from different sources:\n",
        "- doctors notes (texts)\n",
        "- examination variables that have come from a database containing lab results or taken during a doctors examination\n",
        "- self reported variables\n",
        "\n",
        "--------------\n",
        "The exercise data has the following columns/attributes:\n",
        "\n",
        "| Feature | Type | Explanation |\n",
        "| :- | :- | :-\n",
        "| age | numeric | The age of the patient in days\n",
        "| gender | binary | Male/Female\n",
        "| body_mass | numeric | Measured weight of the patient (cm)\n",
        "| height | numeric | Measured weight of the patient (kg)\n",
        "| blood_pressure_high | numeric | Measured Systolic blood pressure\n",
        "| blood_pressure_low | numeric | Measured Diastolic blood pressure\n",
        "| smoke | binary | A subjective feature based on asking the patient whether or not he/she smokes\n",
        "| active | binary |  A subjective feature based on asking the patient whether or not he/she exercises regularly\n",
        "| serum_lipid_level | categorical | Serum lipid / Cholesterol associated risk information evaluated by a doctor\n",
        "|family_history| binary | Indicator for the presence of family history of cardiovascular disease based on medical records of patients\n",
        "| cardio | binary | Whether or not the patient has been diagnosed with cardiac disease."
      ]
    },
    {
      "cell_type": "markdown",
      "metadata": {
        "id": "jMatXBHE3BPh"
      },
      "source": [
        "-----------\n",
        "#### ***Reading data***\n",
        "\n",
        "It is good practice to read the features in using their correct types instead of fixing them later. Below, there is ready-made code for you to read in the data, using the data types and column names listed in the above table. Don't change the name of the variable, _data_. It is important in later exercises (for example in ex. 5e) that this is the name of the variable. <font color = red> If you have the dataset in the same folder as this notebook, the path already given to you should work. </font>\n",
        "\n",
        "---------------"
      ]
    },
    {
      "cell_type": "code",
      "execution_count": 7,
      "metadata": {
        "id": "mMz_5o3t_kp3"
      },
      "outputs": [],
      "source": [
        " # --- READ IN DATA (no need to change) --------\n",
        "data_path = \"CardioCare_ex1.csv\" #if you just give the name of the file it will look for the data in the same folder as your script\n",
        "data = pd.read_csv(data_path, dtype = {'age': 'int', 'height': 'int', 'body_mass':'int', 'blood_pressure_low':'int', 'blood_pressure_high':'int', 'gender': 'boolean', 'smoke': 'boolean',\n",
        "       'active':'boolean', 'cardio':'boolean', 'serum_lipid_level':'category', 'family_history':'boolean'}) #the main data you use in this exercise should have this variable name, so that code given for you further on will run."
      ]
    },
    {
      "cell_type": "code",
      "execution_count": 8,
      "metadata": {},
      "outputs": [],
      "source": [
        "# noticed an error in the feature \"serum lipid level\"\n",
        "\n",
        "# fix error\n",
        "\n",
        "data[\"serum_lipid_level\"] = data[\"serum_lipid_level\"].replace(\"elev ated\", \"elevated\")"
      ]
    },
    {
      "cell_type": "markdown",
      "metadata": {
        "id": "ru2t9oKU_kp4"
      },
      "source": [
        "---------\n",
        "***Exercise 1 a)***\n",
        "1. First, print out the first five rows of the data.\n",
        "\n",
        "2. Then, save the feature names to lists by their types: make three lists named **numeric_features**, **binary_features** and **categorical_features**, containing the **names** of the features of each corresponding type (*you can think in terms of this exercise that binary variables can also be called booleans*).\n",
        "\n",
        "_When working with DataFrames, it can be incredibly helpful to organize column names into a list or lists. This organization simplifies data manipulation and analysis, and can be used to easily select, filter, or perform operations on specific sets of columns, it also prevents typing errors and avoids repetition!_\n",
        "\n",
        "_For example, you can access all columns in you DataFrame with numeric features using the data[numeric_features] notation_\n"
      ]
    },
    {
      "cell_type": "code",
      "execution_count": 9,
      "metadata": {
        "id": "WAgzn52D_kp4"
      },
      "outputs": [
        {
          "data": {
            "text/html": [
              "<div>\n",
              "<style scoped>\n",
              "    .dataframe tbody tr th:only-of-type {\n",
              "        vertical-align: middle;\n",
              "    }\n",
              "\n",
              "    .dataframe tbody tr th {\n",
              "        vertical-align: top;\n",
              "    }\n",
              "\n",
              "    .dataframe thead th {\n",
              "        text-align: right;\n",
              "    }\n",
              "</style>\n",
              "<table border=\"1\" class=\"dataframe\">\n",
              "  <thead>\n",
              "    <tr style=\"text-align: right;\">\n",
              "      <th></th>\n",
              "      <th>age</th>\n",
              "      <th>gender</th>\n",
              "      <th>height</th>\n",
              "      <th>body_mass</th>\n",
              "      <th>blood_pressure_high</th>\n",
              "      <th>blood_pressure_low</th>\n",
              "      <th>smoke</th>\n",
              "      <th>active</th>\n",
              "      <th>cardio</th>\n",
              "      <th>serum_lipid_level</th>\n",
              "      <th>family_history</th>\n",
              "    </tr>\n",
              "  </thead>\n",
              "  <tbody>\n",
              "    <tr>\n",
              "      <th>0</th>\n",
              "      <td>19797</td>\n",
              "      <td>False</td>\n",
              "      <td>161</td>\n",
              "      <td>55</td>\n",
              "      <td>102</td>\n",
              "      <td>68</td>\n",
              "      <td>False</td>\n",
              "      <td>True</td>\n",
              "      <td>False</td>\n",
              "      <td>elevated</td>\n",
              "      <td>False</td>\n",
              "    </tr>\n",
              "    <tr>\n",
              "      <th>1</th>\n",
              "      <td>22571</td>\n",
              "      <td>True</td>\n",
              "      <td>178</td>\n",
              "      <td>68</td>\n",
              "      <td>120</td>\n",
              "      <td>70</td>\n",
              "      <td>False</td>\n",
              "      <td>False</td>\n",
              "      <td>False</td>\n",
              "      <td>normal</td>\n",
              "      <td>False</td>\n",
              "    </tr>\n",
              "    <tr>\n",
              "      <th>2</th>\n",
              "      <td>16621</td>\n",
              "      <td>True</td>\n",
              "      <td>169</td>\n",
              "      <td>69</td>\n",
              "      <td>120</td>\n",
              "      <td>80</td>\n",
              "      <td>False</td>\n",
              "      <td>True</td>\n",
              "      <td>False</td>\n",
              "      <td>normal</td>\n",
              "      <td>False</td>\n",
              "    </tr>\n",
              "    <tr>\n",
              "      <th>3</th>\n",
              "      <td>16688</td>\n",
              "      <td>False</td>\n",
              "      <td>156</td>\n",
              "      <td>77</td>\n",
              "      <td>120</td>\n",
              "      <td>80</td>\n",
              "      <td>False</td>\n",
              "      <td>True</td>\n",
              "      <td>False</td>\n",
              "      <td>normal</td>\n",
              "      <td>False</td>\n",
              "    </tr>\n",
              "    <tr>\n",
              "      <th>4</th>\n",
              "      <td>19498</td>\n",
              "      <td>True</td>\n",
              "      <td>170</td>\n",
              "      <td>98</td>\n",
              "      <td>130</td>\n",
              "      <td>80</td>\n",
              "      <td>True</td>\n",
              "      <td>True</td>\n",
              "      <td>True</td>\n",
              "      <td>elevated</td>\n",
              "      <td>False</td>\n",
              "    </tr>\n",
              "  </tbody>\n",
              "</table>\n",
              "</div>"
            ],
            "text/plain": [
              "     age  gender  height  body_mass  blood_pressure_high  blood_pressure_low  \\\n",
              "0  19797   False     161         55                  102                  68   \n",
              "1  22571    True     178         68                  120                  70   \n",
              "2  16621    True     169         69                  120                  80   \n",
              "3  16688   False     156         77                  120                  80   \n",
              "4  19498    True     170         98                  130                  80   \n",
              "\n",
              "   smoke  active  cardio serum_lipid_level  family_history  \n",
              "0  False    True   False          elevated           False  \n",
              "1  False   False   False            normal           False  \n",
              "2  False    True   False            normal           False  \n",
              "3  False    True   False            normal           False  \n",
              "4   True    True    True          elevated           False  "
            ]
          },
          "execution_count": 9,
          "metadata": {},
          "output_type": "execute_result"
        }
      ],
      "source": [
        "# print out the first 5 rows of the data\n",
        "\n",
        "data.head()"
      ]
    },
    {
      "cell_type": "code",
      "execution_count": 10,
      "metadata": {},
      "outputs": [],
      "source": [
        "# create 3 lists with feature names divided by their data types\n",
        "\n",
        "numeric_features = [\"age\", \"height\", \"body_mass\", \"blood_pressure_high\", \"blood_pressure_low\"]\n",
        "binary_features = [\"gender\", \"smoke\", \"active\", \"cardio\", \"family_history\"]\n",
        "categorical_features = [\"serum_lipid_level\"]"
      ]
    },
    {
      "cell_type": "markdown",
      "metadata": {
        "id": "k541Oaic_kp4"
      },
      "source": [
        "_________\n",
        "## <font color = dimgrey> 2. Checking data quality"
      ]
    },
    {
      "cell_type": "markdown",
      "metadata": {},
      "source": [
        "Often in data analysis projects the data has not been gathered exclusively for the data analysis only but originally for other reasons. Because of this, the features are most often not nicely formatted and may have mistakes. It might be tempting to just use the data as is with a model, but it is very important to first check the data for possible mistakes as they can make all the conclusions you make based on your analysis misleading. One good routine for checking data quality is to first calculate statistical descriptives and then to plot the features to check if the values are realistic.\n",
        "\n",
        "  \n",
        "-----------    \n",
        "    \n",
        "Some descriptive statistics don't really make sense for certain kinds of features. In pandas, like in many other packages, some functions work differently depending on the data type of a column. In the following exercise we will look at the data descriptive statistics as well as how the behavior can change when the data types are different."
      ]
    },
    {
      "cell_type": "markdown",
      "metadata": {
        "id": "AIajREt-_kp4"
      },
      "source": [
        "----------\n",
        "***2 a)***  Print out the data types of your dataset below.\n",
        "\n",
        "_Perhaps the most common data types in pandas (see https://pandas.pydata.org/docs/user_guide/basics.html#basics-dtypes) are **float**, **int**, **bool** and **category**._"
      ]
    },
    {
      "cell_type": "code",
      "execution_count": 11,
      "metadata": {
        "id": "A5fCeou0_kp4",
        "tags": []
      },
      "outputs": [
        {
          "data": {
            "text/plain": [
              "age                       int32\n",
              "gender                  boolean\n",
              "height                    int32\n",
              "body_mass                 int32\n",
              "blood_pressure_high       int32\n",
              "blood_pressure_low        int32\n",
              "smoke                   boolean\n",
              "active                  boolean\n",
              "cardio                  boolean\n",
              "serum_lipid_level      category\n",
              "family_history          boolean\n",
              "dtype: object"
            ]
          },
          "execution_count": 11,
          "metadata": {},
          "output_type": "execute_result"
        }
      ],
      "source": [
        "# the feature types of dataframe \"data\"\n",
        "\n",
        "data.dtypes"
      ]
    },
    {
      "cell_type": "markdown",
      "metadata": {
        "id": "X2SoeW_t_kp5"
      },
      "source": [
        "--------\n",
        "***2 b)*** Use the **DataFrame.describe() method** in the cell below on your data.   \n"
      ]
    },
    {
      "cell_type": "code",
      "execution_count": 12,
      "metadata": {
        "id": "6UOMFm6-_kp5"
      },
      "outputs": [
        {
          "data": {
            "text/html": [
              "<div>\n",
              "<style scoped>\n",
              "    .dataframe tbody tr th:only-of-type {\n",
              "        vertical-align: middle;\n",
              "    }\n",
              "\n",
              "    .dataframe tbody tr th {\n",
              "        vertical-align: top;\n",
              "    }\n",
              "\n",
              "    .dataframe thead th {\n",
              "        text-align: right;\n",
              "    }\n",
              "</style>\n",
              "<table border=\"1\" class=\"dataframe\">\n",
              "  <thead>\n",
              "    <tr style=\"text-align: right;\">\n",
              "      <th></th>\n",
              "      <th>age</th>\n",
              "      <th>height</th>\n",
              "      <th>body_mass</th>\n",
              "      <th>blood_pressure_high</th>\n",
              "      <th>blood_pressure_low</th>\n",
              "    </tr>\n",
              "  </thead>\n",
              "  <tbody>\n",
              "    <tr>\n",
              "      <th>count</th>\n",
              "      <td>210.000000</td>\n",
              "      <td>210.000000</td>\n",
              "      <td>210.000000</td>\n",
              "      <td>210.000000</td>\n",
              "      <td>210.000000</td>\n",
              "    </tr>\n",
              "    <tr>\n",
              "      <th>mean</th>\n",
              "      <td>19455.504762</td>\n",
              "      <td>164.180952</td>\n",
              "      <td>73.895238</td>\n",
              "      <td>127.857143</td>\n",
              "      <td>81.814286</td>\n",
              "    </tr>\n",
              "    <tr>\n",
              "      <th>std</th>\n",
              "      <td>2429.010199</td>\n",
              "      <td>7.534648</td>\n",
              "      <td>14.612326</td>\n",
              "      <td>17.508947</td>\n",
              "      <td>9.947652</td>\n",
              "    </tr>\n",
              "    <tr>\n",
              "      <th>min</th>\n",
              "      <td>14367.000000</td>\n",
              "      <td>142.000000</td>\n",
              "      <td>45.000000</td>\n",
              "      <td>90.000000</td>\n",
              "      <td>50.000000</td>\n",
              "    </tr>\n",
              "    <tr>\n",
              "      <th>25%</th>\n",
              "      <td>17635.750000</td>\n",
              "      <td>158.000000</td>\n",
              "      <td>64.000000</td>\n",
              "      <td>120.000000</td>\n",
              "      <td>80.000000</td>\n",
              "    </tr>\n",
              "    <tr>\n",
              "      <th>50%</th>\n",
              "      <td>19778.000000</td>\n",
              "      <td>164.000000</td>\n",
              "      <td>70.000000</td>\n",
              "      <td>120.000000</td>\n",
              "      <td>80.000000</td>\n",
              "    </tr>\n",
              "    <tr>\n",
              "      <th>75%</th>\n",
              "      <td>21230.500000</td>\n",
              "      <td>170.000000</td>\n",
              "      <td>81.000000</td>\n",
              "      <td>140.000000</td>\n",
              "      <td>90.000000</td>\n",
              "    </tr>\n",
              "    <tr>\n",
              "      <th>max</th>\n",
              "      <td>23565.000000</td>\n",
              "      <td>195.000000</td>\n",
              "      <td>125.000000</td>\n",
              "      <td>190.000000</td>\n",
              "      <td>120.000000</td>\n",
              "    </tr>\n",
              "  </tbody>\n",
              "</table>\n",
              "</div>"
            ],
            "text/plain": [
              "                age      height   body_mass  blood_pressure_high  \\\n",
              "count    210.000000  210.000000  210.000000           210.000000   \n",
              "mean   19455.504762  164.180952   73.895238           127.857143   \n",
              "std     2429.010199    7.534648   14.612326            17.508947   \n",
              "min    14367.000000  142.000000   45.000000            90.000000   \n",
              "25%    17635.750000  158.000000   64.000000           120.000000   \n",
              "50%    19778.000000  164.000000   70.000000           120.000000   \n",
              "75%    21230.500000  170.000000   81.000000           140.000000   \n",
              "max    23565.000000  195.000000  125.000000           190.000000   \n",
              "\n",
              "       blood_pressure_low  \n",
              "count          210.000000  \n",
              "mean            81.814286  \n",
              "std              9.947652  \n",
              "min             50.000000  \n",
              "25%             80.000000  \n",
              "50%             80.000000  \n",
              "75%             90.000000  \n",
              "max            120.000000  "
            ]
          },
          "execution_count": 12,
          "metadata": {},
          "output_type": "execute_result"
        }
      ],
      "source": [
        "# statistical description of dataframe \"data\"\n",
        "\n",
        "data.describe()"
      ]
    },
    {
      "cell_type": "markdown",
      "metadata": {
        "id": "Ft8fMH3w_kp5"
      },
      "source": [
        "--------\n",
        "***2 c)*** Did you get all of the features statistics or not? What do you think happened?\n"
      ]
    },
    {
      "cell_type": "markdown",
      "metadata": {
        "id": "lpzzUTFml0Mz"
      },
      "source": [
        "<font color=\"green\">I only got the statistics for the numerical features. The pandas method 'describe' only works for numeric and object series. The other features are either boolean or categorical, so pandas method 'describe' doesn't calculate statistics for them.</font>\n",
        "\n"
      ]
    },
    {
      "cell_type": "markdown",
      "metadata": {
        "id": "LHfWwFco_kp5"
      },
      "source": [
        "----------\n",
        "***2 d)*** Calculate descriptives for the binary (boolean) features and the categorical feature <br>\n",
        "\n",
        "_tip: in python, same type data structures can in many cases be concatenated using the + operator. If youre using the lists of names you created to subset, you can concatenate the two lists of feature names and use the resulting list to help you subset the dataframe_"
      ]
    },
    {
      "cell_type": "code",
      "execution_count": 13,
      "metadata": {
        "id": "lnL4C_l7_kp5"
      },
      "outputs": [
        {
          "data": {
            "text/html": [
              "<div>\n",
              "<style scoped>\n",
              "    .dataframe tbody tr th:only-of-type {\n",
              "        vertical-align: middle;\n",
              "    }\n",
              "\n",
              "    .dataframe tbody tr th {\n",
              "        vertical-align: top;\n",
              "    }\n",
              "\n",
              "    .dataframe thead th {\n",
              "        text-align: right;\n",
              "    }\n",
              "</style>\n",
              "<table border=\"1\" class=\"dataframe\">\n",
              "  <thead>\n",
              "    <tr style=\"text-align: right;\">\n",
              "      <th></th>\n",
              "      <th>gender</th>\n",
              "      <th>smoke</th>\n",
              "      <th>active</th>\n",
              "      <th>cardio</th>\n",
              "      <th>serum_lipid_level</th>\n",
              "      <th>family_history</th>\n",
              "    </tr>\n",
              "  </thead>\n",
              "  <tbody>\n",
              "    <tr>\n",
              "      <th>count</th>\n",
              "      <td>210</td>\n",
              "      <td>210</td>\n",
              "      <td>210</td>\n",
              "      <td>210</td>\n",
              "      <td>210</td>\n",
              "      <td>210</td>\n",
              "    </tr>\n",
              "    <tr>\n",
              "      <th>unique</th>\n",
              "      <td>2</td>\n",
              "      <td>2</td>\n",
              "      <td>2</td>\n",
              "      <td>2</td>\n",
              "      <td>3</td>\n",
              "      <td>2</td>\n",
              "    </tr>\n",
              "    <tr>\n",
              "      <th>top</th>\n",
              "      <td>False</td>\n",
              "      <td>False</td>\n",
              "      <td>True</td>\n",
              "      <td>False</td>\n",
              "      <td>normal</td>\n",
              "      <td>False</td>\n",
              "    </tr>\n",
              "    <tr>\n",
              "      <th>freq</th>\n",
              "      <td>129</td>\n",
              "      <td>186</td>\n",
              "      <td>162</td>\n",
              "      <td>105</td>\n",
              "      <td>153</td>\n",
              "      <td>128</td>\n",
              "    </tr>\n",
              "  </tbody>\n",
              "</table>\n",
              "</div>"
            ],
            "text/plain": [
              "       gender  smoke active cardio serum_lipid_level family_history\n",
              "count     210    210    210    210               210            210\n",
              "unique      2      2      2      2                 3              2\n",
              "top     False  False   True  False            normal          False\n",
              "freq      129    186    162    105               153            128"
            ]
          },
          "execution_count": 13,
          "metadata": {},
          "output_type": "execute_result"
        }
      ],
      "source": [
        "# statistical description of boolean and categorical features\n",
        "\n",
        "data.describe(include=['boolean', 'category'])"
      ]
    },
    {
      "cell_type": "markdown",
      "metadata": {
        "id": "FeBe_Ig7_kp6"
      },
      "source": [
        "----------\n",
        "Now, we will see ***what would have happened if the data was read in using default settings*** and not giving information about the types of the features (dtypes), giving no arguments to pd.read_csv.\n",
        "\n",
        "Run the below cell (no need to modify the code) and look at the output of the cell with the wrongly read data. Compare it with the output of the cell where you used the correctly read data to get the descriptives."
      ]
    },
    {
      "cell_type": "code",
      "execution_count": 14,
      "metadata": {
        "id": "jj4sId-Y_kp6"
      },
      "outputs": [
        {
          "data": {
            "text/html": [
              "<div>\n",
              "<style scoped>\n",
              "    .dataframe tbody tr th:only-of-type {\n",
              "        vertical-align: middle;\n",
              "    }\n",
              "\n",
              "    .dataframe tbody tr th {\n",
              "        vertical-align: top;\n",
              "    }\n",
              "\n",
              "    .dataframe thead th {\n",
              "        text-align: right;\n",
              "    }\n",
              "</style>\n",
              "<table border=\"1\" class=\"dataframe\">\n",
              "  <thead>\n",
              "    <tr style=\"text-align: right;\">\n",
              "      <th></th>\n",
              "      <th>age</th>\n",
              "      <th>gender</th>\n",
              "      <th>height</th>\n",
              "      <th>body_mass</th>\n",
              "      <th>blood_pressure_high</th>\n",
              "      <th>blood_pressure_low</th>\n",
              "      <th>smoke</th>\n",
              "      <th>active</th>\n",
              "      <th>cardio</th>\n",
              "      <th>family_history</th>\n",
              "    </tr>\n",
              "  </thead>\n",
              "  <tbody>\n",
              "    <tr>\n",
              "      <th>count</th>\n",
              "      <td>210.000000</td>\n",
              "      <td>210.000000</td>\n",
              "      <td>210.000000</td>\n",
              "      <td>210.000000</td>\n",
              "      <td>210.000000</td>\n",
              "      <td>210.000000</td>\n",
              "      <td>210.000000</td>\n",
              "      <td>210.000000</td>\n",
              "      <td>210.000000</td>\n",
              "      <td>210.000000</td>\n",
              "    </tr>\n",
              "    <tr>\n",
              "      <th>mean</th>\n",
              "      <td>19455.504762</td>\n",
              "      <td>0.385714</td>\n",
              "      <td>164.180952</td>\n",
              "      <td>73.895238</td>\n",
              "      <td>127.857143</td>\n",
              "      <td>81.814286</td>\n",
              "      <td>0.114286</td>\n",
              "      <td>0.771429</td>\n",
              "      <td>0.500000</td>\n",
              "      <td>0.390476</td>\n",
              "    </tr>\n",
              "    <tr>\n",
              "      <th>std</th>\n",
              "      <td>2429.010199</td>\n",
              "      <td>0.487927</td>\n",
              "      <td>7.534648</td>\n",
              "      <td>14.612326</td>\n",
              "      <td>17.508947</td>\n",
              "      <td>9.947652</td>\n",
              "      <td>0.318918</td>\n",
              "      <td>0.420916</td>\n",
              "      <td>0.501195</td>\n",
              "      <td>0.489023</td>\n",
              "    </tr>\n",
              "    <tr>\n",
              "      <th>min</th>\n",
              "      <td>14367.000000</td>\n",
              "      <td>0.000000</td>\n",
              "      <td>142.000000</td>\n",
              "      <td>45.000000</td>\n",
              "      <td>90.000000</td>\n",
              "      <td>50.000000</td>\n",
              "      <td>0.000000</td>\n",
              "      <td>0.000000</td>\n",
              "      <td>0.000000</td>\n",
              "      <td>0.000000</td>\n",
              "    </tr>\n",
              "    <tr>\n",
              "      <th>25%</th>\n",
              "      <td>17635.750000</td>\n",
              "      <td>0.000000</td>\n",
              "      <td>158.000000</td>\n",
              "      <td>64.000000</td>\n",
              "      <td>120.000000</td>\n",
              "      <td>80.000000</td>\n",
              "      <td>0.000000</td>\n",
              "      <td>1.000000</td>\n",
              "      <td>0.000000</td>\n",
              "      <td>0.000000</td>\n",
              "    </tr>\n",
              "    <tr>\n",
              "      <th>50%</th>\n",
              "      <td>19778.000000</td>\n",
              "      <td>0.000000</td>\n",
              "      <td>164.000000</td>\n",
              "      <td>70.000000</td>\n",
              "      <td>120.000000</td>\n",
              "      <td>80.000000</td>\n",
              "      <td>0.000000</td>\n",
              "      <td>1.000000</td>\n",
              "      <td>0.500000</td>\n",
              "      <td>0.000000</td>\n",
              "    </tr>\n",
              "    <tr>\n",
              "      <th>75%</th>\n",
              "      <td>21230.500000</td>\n",
              "      <td>1.000000</td>\n",
              "      <td>170.000000</td>\n",
              "      <td>81.000000</td>\n",
              "      <td>140.000000</td>\n",
              "      <td>90.000000</td>\n",
              "      <td>0.000000</td>\n",
              "      <td>1.000000</td>\n",
              "      <td>1.000000</td>\n",
              "      <td>1.000000</td>\n",
              "    </tr>\n",
              "    <tr>\n",
              "      <th>max</th>\n",
              "      <td>23565.000000</td>\n",
              "      <td>1.000000</td>\n",
              "      <td>195.000000</td>\n",
              "      <td>125.000000</td>\n",
              "      <td>190.000000</td>\n",
              "      <td>120.000000</td>\n",
              "      <td>1.000000</td>\n",
              "      <td>1.000000</td>\n",
              "      <td>1.000000</td>\n",
              "      <td>1.000000</td>\n",
              "    </tr>\n",
              "  </tbody>\n",
              "</table>\n",
              "</div>"
            ],
            "text/plain": [
              "                age      gender      height   body_mass  blood_pressure_high  \\\n",
              "count    210.000000  210.000000  210.000000  210.000000           210.000000   \n",
              "mean   19455.504762    0.385714  164.180952   73.895238           127.857143   \n",
              "std     2429.010199    0.487927    7.534648   14.612326            17.508947   \n",
              "min    14367.000000    0.000000  142.000000   45.000000            90.000000   \n",
              "25%    17635.750000    0.000000  158.000000   64.000000           120.000000   \n",
              "50%    19778.000000    0.000000  164.000000   70.000000           120.000000   \n",
              "75%    21230.500000    1.000000  170.000000   81.000000           140.000000   \n",
              "max    23565.000000    1.000000  195.000000  125.000000           190.000000   \n",
              "\n",
              "       blood_pressure_low       smoke      active      cardio  family_history  \n",
              "count          210.000000  210.000000  210.000000  210.000000      210.000000  \n",
              "mean            81.814286    0.114286    0.771429    0.500000        0.390476  \n",
              "std              9.947652    0.318918    0.420916    0.501195        0.489023  \n",
              "min             50.000000    0.000000    0.000000    0.000000        0.000000  \n",
              "25%             80.000000    0.000000    1.000000    0.000000        0.000000  \n",
              "50%             80.000000    0.000000    1.000000    0.500000        0.000000  \n",
              "75%             90.000000    0.000000    1.000000    1.000000        1.000000  \n",
              "max            120.000000    1.000000    1.000000    1.000000        1.000000  "
            ]
          },
          "execution_count": 14,
          "metadata": {},
          "output_type": "execute_result"
        }
      ],
      "source": [
        "# read in the dataset with no arguments\n",
        "wrongly_read_data = pd.read_csv(data_path)\n",
        "\n",
        "# calculate descriptives for the data that was wrongly read in.\n",
        "wrongly_read_data.describe()\n"
      ]
    },
    {
      "cell_type": "markdown",
      "metadata": {
        "id": "hGsnQYT1_kp6"
      },
      "source": [
        "***2 e)*** Looking at the above output, can you now say whats wrong with this presentation and why it was important to define the data types?"
      ]
    },
    {
      "cell_type": "markdown",
      "metadata": {
        "id": "Qx72UtvZ_kp6"
      },
      "source": [
        "<font color=\"green\">The same type of statistical descriptives are not descriptive for boolean and categorical variables as they are for numerical variables e.g., one can not really calculate the mean or standard deviation for a boolean or categorical variable. Much better descriptives are the unique values, top value and the frequency of the top value for boolean and categorical variables. If the data types are not defined, pandas takes them as numerical variables with values of 0 or 1, and calculates numerical statistical descriptives for them too.</font>"
      ]
    },
    {
      "cell_type": "markdown",
      "metadata": {
        "id": "Dhd3oOoe_kp6"
      },
      "source": [
        "-----------------------\n",
        "## 3. Plotting numeric features\n",
        "Descriptives don't really give a full or intuitive picture of the distribution of features. Next, we will make use of different plots to check the data quality.  "
      ]
    },
    {
      "cell_type": "markdown",
      "metadata": {
        "id": "4a4ipQ0Q_kqD"
      },
      "source": [
        "----------\n",
        "***3 a)*** Plot the numeric features as histograms (see tutorial if you need help).\n",
        "\n",
        "_tip: if you give only one grid-size argument for plt.subplots() like plt.subplots(3) the grid will be one-dimensional and you can index it with only one indexer._  \n"
      ]
    },
    {
      "cell_type": "code",
      "execution_count": 15,
      "metadata": {
        "id": "BqsefPHV_kqE"
      },
      "outputs": [
        {
          "data": {
            "image/png": "[encoded data removed]",
            "text/plain": [
              "<Figure size 1800x400 with 5 Axes>"
            ]
          },
          "metadata": {},
          "output_type": "display_data"
        }
      ],
      "source": [
        "# use seaborn to plot histograms of the five numerical variables\n",
        "\n",
        "fig, axes = plt.subplots(1,5, figsize = (18,4))\n",
        "\n",
        "# print the data we are plotting\n",
        "for i in range(5):\n",
        "    sns.histplot(data = data[numeric_features[i]], ax = axes[i])\n",
        "\n",
        "# give title for figure\n",
        "\n",
        "fig.suptitle(\"Histograms of numerical variables\")\n",
        "\n",
        "# format figure\n",
        "\n",
        "plt.tight_layout()"
      ]
    },
    {
      "cell_type": "markdown",
      "metadata": {
        "id": "grcF8v9K_kqE"
      },
      "source": [
        "_______\n",
        "## 4. Plotting binary and categorical features"
      ]
    },
    {
      "cell_type": "markdown",
      "metadata": {
        "id": "7MUi2Kfi_kqE"
      },
      "source": [
        "***4 a)*** Plot **barplots** for each of the non-numeric features. **Use fractions, not the real frequencies of the levels of these features**.\n",
        "\n",
        "--------------\n",
        "\n",
        "_tip: For plotting, see documentation on axes.bar. To get the fractions, see the value_counts function and its optional argument normalize._\n",
        "\n",
        "_If you read in the dtypes to be pandas dtype.boolean, in some cases its easier to work with other packages, suchs as matplotlib when they are represented as numbers [0,1] and not True or False. If you get errors you can try to cast them momentarily to be int or float with astype. This does not mean that you've done the exercise incorrectly, just that you have to change them for the plotting package._"
      ]
    },
    {
      "cell_type": "code",
      "execution_count": 16,
      "metadata": {
        "id": "pnDjdDE__kqE",
        "tags": []
      },
      "outputs": [
        {
          "data": {
            "image/png": "[encoded data removed]",
            "text/plain": [
              "<Figure size 1000x500 with 6 Axes>"
            ]
          },
          "metadata": {},
          "output_type": "display_data"
        }
      ],
      "source": [
        "# create bar plots for non-numeric features\n",
        "\n",
        "# create figure\n",
        "fig, axes = plt.subplots(2,3, figsize = (10,5))\n",
        "\n",
        "# plots for 1st row\n",
        "i = 0\n",
        "for j in range(3):\n",
        "    axes[i, j].bar(x = [\"True\", \"False\"], height = data[binary_features[j]].value_counts(normalize=True).sort_index(ascending=False))\n",
        "    axes[i, j].set_title(binary_features[j]) #set a title for each axes\n",
        "\n",
        "# plots for 2nd row\n",
        "i = 1\n",
        "for j in range(2):\n",
        "    axes[i, j].bar(x = [\"True\",\"False\"], height = data[binary_features[j+3]].value_counts(normalize=True).sort_index(ascending=False))\n",
        "    axes[i, j].set_title(binary_features[j+3]) #set a title for each axes\n",
        "axes[1, 2].bar(x = [\"normal\", \"at risk\", \"elevated\"], height = data[categorical_features[0]].value_counts(normalize=True)) #the one categorical feature\n",
        "axes[1, 2].set_title(categorical_features[0]) #set a title\n",
        "\n",
        "# format figure\n",
        "plt.tight_layout()"
      ]
    },
    {
      "cell_type": "markdown",
      "metadata": {
        "id": "HblwIAWS_kqE"
      },
      "source": [
        "**4 b)** Do you see something odd with one of the features? Fix it.\n",
        "\n",
        "If you read the dtype of the categorical feature to be pandas dtype.categorical, **you have to also use the pandas function remove_categories to remove the category level from the feature**, even if you would have already removed the value. You can do this like: _data['feature_name'] = data['feature_name'].cat.remove_categories(\"category name to delete\")_"
      ]
    },
    {
      "cell_type": "markdown",
      "metadata": {
        "id": "tTbxzFDf_kqE"
      },
      "source": [
        "<font color=\"green\">I already fixed the instance of \"elev ated\" earlier. I don't see any other oddities. Let's remove the category level from the feature.</font>"
      ]
    },
    {
      "cell_type": "code",
      "execution_count": 17,
      "metadata": {
        "id": "OxO5PTRf_kqF"
      },
      "outputs": [],
      "source": [
        "# I fixed the issue by replacing the value \"elev ated\" with assumed correct value \"elevated\" so \n",
        "\n",
        "# data['serum_lipid_level'] = data['serum_lipid_level'].cat.remove_categories(\"elev ated\")"
      ]
    },
    {
      "cell_type": "markdown",
      "metadata": {
        "id": "XYDja_ze_kqF"
      },
      "source": [
        "-------------\n",
        "\n",
        "## 5. Feature generation and exploration"
      ]
    },
    {
      "cell_type": "markdown",
      "metadata": {
        "id": "mGu2gXLGuBjS"
      },
      "source": [
        "Feature Engineering is a crucial step in the process of preparing data for most data analysis projects. It involves creating new features or modifying existing ones to improve the performance of predictive models. Feature engineering is a combination of domain knowledge, creativity, and data analysis, and it can have a significant impact on the success of a data analysis project.\n",
        "\n",
        "--------------"
      ]
    },
    {
      "cell_type": "markdown",
      "metadata": {
        "id": "y1awz0XauHJ-"
      },
      "source": [
        "**BMI**, or **Body Mass Index**, is a simple numerical measure that is commonly used to assess an individual's body weight in relation to their height. In our use case, BMI can be a useful indicator in the prediction of cardiovascular problems, as it could provide a well-established link between obesity and an increased risk of developing the disease.\n",
        "\n",
        "\\begin{align*}\n",
        "\\text{BMI} & = \\frac{\\text{Body mass (kg)}}{(\\text{height (m)})^2} \\\\\n",
        "\\end{align*}\n",
        "\n",
        "---------------------------------------\n",
        "***5 a)*** Generate a new feature based off of the provided formula, using 'height' and 'body_mass' and name it **BMI**\n",
        "\n",
        "_tip: In the case of our dataset the height is in centimeters, so make sure to convert it into meters_"
      ]
    },
    {
      "cell_type": "code",
      "execution_count": 18,
      "metadata": {
        "id": "z8nHH09YuPa1"
      },
      "outputs": [],
      "source": [
        "### Your code for 5 a) here ###"
      ]
    },
    {
      "cell_type": "markdown",
      "metadata": {
        "id": "HYPN0U1ouOoS"
      },
      "source": [
        "***5 b)*** Using the previously calculated feature **BMI** generate a new feature named **BMI_category** that categorizes the values into groups, according to the standard BMI categories :\n",
        "\n",
        "- Underweight: BMI less than 18.5\n",
        "- Normal Weight: BMI between 18.5 and 24.9\n",
        "- Overweight: BMI between 25 and 29.9\n",
        "- Obese: BMI of 30 or greater"
      ]
    },
    {
      "cell_type": "code",
      "execution_count": 19,
      "metadata": {
        "id": "I5qZQCIHBoZj"
      },
      "outputs": [],
      "source": [
        "### Your code for 5 b) here ###"
      ]
    },
    {
      "cell_type": "markdown",
      "metadata": {
        "id": "AQTdY0_f0q8-"
      },
      "source": [
        "Now that we have our BMI values, it's a good practice to see if we can spot a hidden trend in our data.\n",
        "\n",
        "***5 c)*** Create a countplot to visualize the distribution of cardio (target variable)  within different BMI categories."
      ]
    },
    {
      "cell_type": "code",
      "execution_count": 20,
      "metadata": {
        "id": "EQ6HPrcN1GL-"
      },
      "outputs": [],
      "source": [
        "### Your code for 5 c) here ###"
      ]
    },
    {
      "cell_type": "markdown",
      "metadata": {
        "id": "GfzWmYty1IzA"
      },
      "source": [
        "***5 d)*** Can you notice any relationship or visible trend?"
      ]
    },
    {
      "cell_type": "markdown",
      "metadata": {
        "id": "soCh_CqSmh9U"
      },
      "source": [
        "<font color=\"green\">Your answer for 5 d)</font>"
      ]
    },
    {
      "cell_type": "markdown",
      "metadata": {
        "id": "JAZOWk3QxmKk"
      },
      "source": [
        "Below, there is ready-made code for you to appropriatly add the newly created features to the right column type list. You don't need to change anything about the code, just make sure that the names of the added features are as specified earlier (**BMI** and **BMI_category**)"
      ]
    },
    {
      "cell_type": "code",
      "execution_count": 21,
      "metadata": {
        "id": "mFW3dSpF1wAx"
      },
      "outputs": [
        {
          "ename": "KeyError",
          "evalue": "'BMI_category'",
          "output_type": "error",
          "traceback": [
            "\u001b[1;31m---------------------------------------------------------------------------\u001b[0m",
            "\u001b[1;31mKeyError\u001b[0m                                  Traceback (most recent call last)",
            "File \u001b[1;32mc:\\Python310\\lib\\site-packages\\pandas\\core\\indexes\\base.py:3790\u001b[0m, in \u001b[0;36mIndex.get_loc\u001b[1;34m(self, key)\u001b[0m\n\u001b[0;32m   3789\u001b[0m \u001b[39mtry\u001b[39;00m:\n\u001b[1;32m-> 3790\u001b[0m     \u001b[39mreturn\u001b[39;00m \u001b[39mself\u001b[39;49m\u001b[39m.\u001b[39;49m_engine\u001b[39m.\u001b[39;49mget_loc(casted_key)\n\u001b[0;32m   3791\u001b[0m \u001b[39mexcept\u001b[39;00m \u001b[39mKeyError\u001b[39;00m \u001b[39mas\u001b[39;00m err:\n",
            "File \u001b[1;32mindex.pyx:152\u001b[0m, in \u001b[0;36mpandas._libs.index.IndexEngine.get_loc\u001b[1;34m()\u001b[0m\n",
            "File \u001b[1;32mindex.pyx:181\u001b[0m, in \u001b[0;36mpandas._libs.index.IndexEngine.get_loc\u001b[1;34m()\u001b[0m\n",
            "File \u001b[1;32mpandas\\_libs\\hashtable_class_helper.pxi:7080\u001b[0m, in \u001b[0;36mpandas._libs.hashtable.PyObjectHashTable.get_item\u001b[1;34m()\u001b[0m\n",
            "File \u001b[1;32mpandas\\_libs\\hashtable_class_helper.pxi:7088\u001b[0m, in \u001b[0;36mpandas._libs.hashtable.PyObjectHashTable.get_item\u001b[1;34m()\u001b[0m\n",
            "\u001b[1;31mKeyError\u001b[0m: 'BMI_category'",
            "\nThe above exception was the direct cause of the following exception:\n",
            "\u001b[1;31mKeyError\u001b[0m                                  Traceback (most recent call last)",
            "\u001b[1;32mc:\\Opinnot\\DAKD\\DAKD-E1\\Konsta_Nyman_DAKD_2023_exercise_1.ipynb Cell 60\u001b[0m line \u001b[0;36m3\n\u001b[0;32m      <a href='vscode-notebook-cell:/c%3A/Opinnot/DAKD/DAKD-E1/Konsta_Nyman_DAKD_2023_exercise_1.ipynb#Y113sZmlsZQ%3D%3D?line=0'>1</a>\u001b[0m \u001b[39m# ---- Add features to column type list (no need to change) --------\u001b[39;00m\n\u001b[0;32m      <a href='vscode-notebook-cell:/c%3A/Opinnot/DAKD/DAKD-E1/Konsta_Nyman_DAKD_2023_exercise_1.ipynb#Y113sZmlsZQ%3D%3D?line=1'>2</a>\u001b[0m numeric_features\u001b[39m.\u001b[39mappend(\u001b[39m\"\u001b[39m\u001b[39mBMI\u001b[39m\u001b[39m\"\u001b[39m)\n\u001b[1;32m----> <a href='vscode-notebook-cell:/c%3A/Opinnot/DAKD/DAKD-E1/Konsta_Nyman_DAKD_2023_exercise_1.ipynb#Y113sZmlsZQ%3D%3D?line=2'>3</a>\u001b[0m data[\u001b[39m'\u001b[39m\u001b[39mBMI_category\u001b[39m\u001b[39m'\u001b[39m] \u001b[39m=\u001b[39m data[\u001b[39m'\u001b[39;49m\u001b[39mBMI_category\u001b[39;49m\u001b[39m'\u001b[39;49m]\u001b[39m.\u001b[39mastype(\u001b[39m'\u001b[39m\u001b[39mcategory\u001b[39m\u001b[39m'\u001b[39m)\n\u001b[0;32m      <a href='vscode-notebook-cell:/c%3A/Opinnot/DAKD/DAKD-E1/Konsta_Nyman_DAKD_2023_exercise_1.ipynb#Y113sZmlsZQ%3D%3D?line=3'>4</a>\u001b[0m categorical_features\u001b[39m.\u001b[39mappend(\u001b[39m\"\u001b[39m\u001b[39mBMI_category\u001b[39m\u001b[39m\"\u001b[39m)\n",
            "File \u001b[1;32mc:\\Python310\\lib\\site-packages\\pandas\\core\\frame.py:3896\u001b[0m, in \u001b[0;36mDataFrame.__getitem__\u001b[1;34m(self, key)\u001b[0m\n\u001b[0;32m   3894\u001b[0m \u001b[39mif\u001b[39;00m \u001b[39mself\u001b[39m\u001b[39m.\u001b[39mcolumns\u001b[39m.\u001b[39mnlevels \u001b[39m>\u001b[39m \u001b[39m1\u001b[39m:\n\u001b[0;32m   3895\u001b[0m     \u001b[39mreturn\u001b[39;00m \u001b[39mself\u001b[39m\u001b[39m.\u001b[39m_getitem_multilevel(key)\n\u001b[1;32m-> 3896\u001b[0m indexer \u001b[39m=\u001b[39m \u001b[39mself\u001b[39;49m\u001b[39m.\u001b[39;49mcolumns\u001b[39m.\u001b[39;49mget_loc(key)\n\u001b[0;32m   3897\u001b[0m \u001b[39mif\u001b[39;00m is_integer(indexer):\n\u001b[0;32m   3898\u001b[0m     indexer \u001b[39m=\u001b[39m [indexer]\n",
            "File \u001b[1;32mc:\\Python310\\lib\\site-packages\\pandas\\core\\indexes\\base.py:3797\u001b[0m, in \u001b[0;36mIndex.get_loc\u001b[1;34m(self, key)\u001b[0m\n\u001b[0;32m   3792\u001b[0m     \u001b[39mif\u001b[39;00m \u001b[39misinstance\u001b[39m(casted_key, \u001b[39mslice\u001b[39m) \u001b[39mor\u001b[39;00m (\n\u001b[0;32m   3793\u001b[0m         \u001b[39misinstance\u001b[39m(casted_key, abc\u001b[39m.\u001b[39mIterable)\n\u001b[0;32m   3794\u001b[0m         \u001b[39mand\u001b[39;00m \u001b[39many\u001b[39m(\u001b[39misinstance\u001b[39m(x, \u001b[39mslice\u001b[39m) \u001b[39mfor\u001b[39;00m x \u001b[39min\u001b[39;00m casted_key)\n\u001b[0;32m   3795\u001b[0m     ):\n\u001b[0;32m   3796\u001b[0m         \u001b[39mraise\u001b[39;00m InvalidIndexError(key)\n\u001b[1;32m-> 3797\u001b[0m     \u001b[39mraise\u001b[39;00m \u001b[39mKeyError\u001b[39;00m(key) \u001b[39mfrom\u001b[39;00m \u001b[39merr\u001b[39;00m\n\u001b[0;32m   3798\u001b[0m \u001b[39mexcept\u001b[39;00m \u001b[39mTypeError\u001b[39;00m:\n\u001b[0;32m   3799\u001b[0m     \u001b[39m# If we have a listlike key, _check_indexing_error will raise\u001b[39;00m\n\u001b[0;32m   3800\u001b[0m     \u001b[39m#  InvalidIndexError. Otherwise we fall through and re-raise\u001b[39;00m\n\u001b[0;32m   3801\u001b[0m     \u001b[39m#  the TypeError.\u001b[39;00m\n\u001b[0;32m   3802\u001b[0m     \u001b[39mself\u001b[39m\u001b[39m.\u001b[39m_check_indexing_error(key)\n",
            "\u001b[1;31mKeyError\u001b[0m: 'BMI_category'"
          ]
        }
      ],
      "source": [
        "# ---- Add features to column type list (no need to change) --------\n",
        "numeric_features.append(\"BMI\")\n",
        "data['BMI_category'] = data['BMI_category'].astype('category')\n",
        "categorical_features.append(\"BMI_category\")"
      ]
    },
    {
      "cell_type": "markdown",
      "metadata": {
        "id": "OHZehiD-_kqF"
      },
      "source": [
        "-------------\n",
        "\n",
        "## 6. Preprocessing numeric features"
      ]
    },
    {
      "cell_type": "markdown",
      "metadata": {
        "id": "QvAxmrP1_kqF"
      },
      "source": [
        "Scaling the data improves the performance of machine learning algorithms in many cases, or perhaps better put, can ruin performance if not done. For instance with distance based algorithms covered in the course such as PCA, T-SNE and KNN some features with large values can dominate the distance calculations.\n",
        "\n",
        "-----------\n",
        "We will look at two often used ways of bringing the values to the same scale: **min-max scaling to [0,1]** and **standardizing the features to 0 mean and unit variance**. We will see, that the decision has implications on how the data will look afterwards. Standardizing values is very common in statistics and min-max scaling is for example used in training neural networks, where we want the range to match the range of an activation function in the network. Its good to know both.\n",
        "\n",
        "Two functions, sklearn.minmax_scale and sklearn.scale have been imported for you and you can use them in the following exercises.\n",
        "__________________________\n",
        "\n"
      ]
    },
    {
      "cell_type": "markdown",
      "metadata": {
        "id": "ccSWzwJL_kqF"
      },
      "source": [
        "**6 a)** Min-max numeric attributes to [0,1] and **store the results in a new dataframe called data_min_maxed**. You might have to wrap the data to a dataframe again using pd.DataFrame()"
      ]
    },
    {
      "cell_type": "code",
      "execution_count": null,
      "metadata": {
        "id": "8LIvkXpA_kqF"
      },
      "outputs": [],
      "source": [
        "# --- Your code for 6 a) here --- #"
      ]
    },
    {
      "cell_type": "markdown",
      "metadata": {
        "id": "miuOrTJE_kqG"
      },
      "source": [
        "**6 b)** Standardize numeric attributes to 0 mean and unit variance and **store the results in a new dataframe called data_standardized**"
      ]
    },
    {
      "cell_type": "code",
      "execution_count": null,
      "metadata": {
        "id": "bVxlvF5j_kqG"
      },
      "outputs": [],
      "source": [
        "# Your code for 6 b here --- #"
      ]
    },
    {
      "cell_type": "markdown",
      "metadata": {
        "id": "NhozF3gN_kqG"
      },
      "source": [
        "**6 c)** Make two boxplots of the 'age' feature, one plot with the data_min_maxed and one with the data_standardized. Preferably put the plots side-by-side and give each titles. See the tutorial in the beginning for help."
      ]
    },
    {
      "cell_type": "code",
      "execution_count": null,
      "metadata": {
        "id": "TpPWGs1B_kqG"
      },
      "outputs": [],
      "source": [
        "# Your code for 6 c) here --- #"
      ]
    },
    {
      "cell_type": "markdown",
      "metadata": {
        "id": "uU0nFxLKF1ta"
      },
      "source": [
        "**6 d)** Describe what you would expect to see in these two boxplots. How would the characteristics of the boxplots differ for min-max scaled data and standardized data?\n",
        "\n",
        "_tip: Consider factors like the location of the mean, and the range of values presented._"
      ]
    },
    {
      "cell_type": "markdown",
      "metadata": {
        "id": "0dQjpocfHfdJ"
      },
      "source": [
        "<font color=\"green\">Your answer for 6 d)</font>"
      ]
    },
    {
      "cell_type": "markdown",
      "metadata": {
        "id": "tPt3NRl7_kqG"
      },
      "source": [
        "---------\n",
        "\n",
        "Lets see the differences of these preprocessing methods through an example. We will add an \"outlier\" point (some point with a large value) to replace the\n",
        "last value in both data, then again minmax and standardize and plot. The code to add the value is given for you and you shouldn't change it.\n",
        "\n",
        "--------------------\n",
        "\n",
        "***6e) Do the following:***\n",
        "1. Take the data for the age feature (age_w_outlier) provided for you\n",
        "2. Make two variables, age_w_outlier_minmaxed, containing the min-maxed values of the age_w_outlier and\n",
        "3.  age_w_outlier_standardized containing the standardized values for the age_w_outlier\n"
      ]
    },
    {
      "cell_type": "code",
      "execution_count": null,
      "metadata": {
        "id": "EmWfO7E4_kqG"
      },
      "outputs": [],
      "source": [
        "### Add an outlier, DONT CHANGE THIS CELL CODE, JUST RUN IT ###\n",
        "data_w_outlier = data.copy() #data should be the name of the variable where you have stored your data!\n",
        "data_w_outlier.loc[data.shape[0] -1 , 'age'] = 150 #change the last value of age to be 150\n",
        "age_w_outlier = data_w_outlier.age"
      ]
    },
    {
      "cell_type": "code",
      "execution_count": null,
      "metadata": {
        "id": "MTm7xCg7_kqG"
      },
      "outputs": [],
      "source": [
        "# --- Your code for 6 e) ---"
      ]
    },
    {
      "cell_type": "markdown",
      "metadata": {
        "id": "QaP1uVTN_kqH"
      },
      "source": [
        "***Below there is pre-written code for you to plot the different cases. Run it. The code should run if you have named your features appropriately. Run the code.***"
      ]
    },
    {
      "cell_type": "code",
      "execution_count": null,
      "metadata": {
        "colab": {
          "base_uri": "https://localhost:8080/",
          "height": 887
        },
        "id": "0dOnjd2__kqH",
        "outputId": "e108827d-4124-461d-bfa2-a184d4dee7e2"
      },
      "outputs": [
        {
          "data": {
            "image/png": "[encoded data removed]",
            "text/plain": [
              "<Figure size 640x480 with 1 Axes>"
            ]
          },
          "metadata": {},
          "output_type": "display_data"
        },
        {
          "data": {
            "image/png": "[encoded data removed]",
            "text/plain": [
              "<Figure size 640x480 with 1 Axes>"
            ]
          },
          "metadata": {},
          "output_type": "display_data"
        }
      ],
      "source": [
        "# Wrap in a dataframe that will have two features - the age feature without the outlier, and the age feature with it, min-maxed.\n",
        "minmaxed_datas = pd.DataFrame({\"minmaxed_age_no_outlier\" : data_min_maxed.age,\n",
        "              \"minmaxed_age_with_outlier\": age_w_outlier_minmaxed })\n",
        "\n",
        "# Wrap in a dataframe that will have two features - the age feature without the outlier, and the age feature with it, standardized.\n",
        "standardized_datas = pd.DataFrame({\"standardized_data_no_outlier\" : data_standardized.age,\n",
        "              \"standardized_data_w_outlier\": age_w_outlier_standardized })\n",
        "\n",
        "axes_minmaxed = minmaxed_datas[['minmaxed_age_no_outlier', 'minmaxed_age_with_outlier']].plot(kind='box', title='Minmax with and without outlier')\n",
        "axes_std = standardized_datas[['standardized_data_no_outlier', 'standardized_data_w_outlier']].plot(kind='box', title='Standardized with and without outlier')"
      ]
    },
    {
      "cell_type": "markdown",
      "metadata": {
        "id": "69aVq8Hc_kqH"
      },
      "source": [
        "----------\n",
        "**6 f) Look at the output of the above cell and answer the following**:\n",
        "\n",
        "1. Can you notice a difference between the two cases (min-maxed and standardized)?\n",
        "2. Can you say something about the difference of the effect of min-maxing and standardization?\n"
      ]
    },
    {
      "cell_type": "markdown",
      "metadata": {
        "id": "GcYS23iv_kqH"
      },
      "source": [
        "<font color=\"green\">Your answer for 6 f)</font>"
      ]
    },
    {
      "cell_type": "markdown",
      "metadata": {
        "id": "hr-4pk06_kqH"
      },
      "source": [
        "---------------\n",
        "## 7. Preprocessing categorical features\n",
        "\n"
      ]
    },
    {
      "cell_type": "markdown",
      "metadata": {
        "id": "Pjc3qw2U_kqH"
      },
      "source": [
        "We can roughly divide categorical variables/features to two types:  ***nominal categorical***  and  ***ordinal categorical*** variables/features. Some cases are clear in terms of which of the two a feature falls into. For example nationality is not an ordered feature, but which grade in school someone is has a natural ordering. **One-hot encoding** was presented in the lectures and will be used in the following exercises with different learning methods.\n",
        "\n",
        "\n",
        "-----\n",
        "***Nominal categorical features need to be encoded***, because not encoding them implies that they have an order. For example, consider a dataset where you would have rows by different countries, encoded randomly with numbers, for ex. Finland = 1, Norway = 2 and so on. For some analyses and methods this would imply that Norway is somehow \"greater\" in value than Finland. For some algorithms, the implication would also be, that some of the countries would be \"closer\" to each other.\n",
        "\n",
        "------\n",
        "***Ordinal categorical features do not necessarily need to be encoded***, but there are cases where it can be wise. One case is that the categories are not even distance from each other, which is the case with the 'serum_lipid_level' feature with the levels 'normal', 'elevated' and 'at risk'. Its not clear that these are equal in distance from each other. When unsure, it may also be better to one-hot encode, and a lot of packages do it for you behind the scenes. Here we decide to one-hot encode.  \n",
        "\n",
        "---------------------\n"
      ]
    },
    {
      "cell_type": "markdown",
      "metadata": {
        "id": "OsOJtX3T_kqH"
      },
      "source": [
        "***7 a)*** One-hot-encode the serum_lipid_level-feature and add the one-hot features to the data. Give the new features meaningful names. Print the first rows of the resulting dataframe.\n",
        "\n",
        "_tip: pandas has a function for this, google!_"
      ]
    },
    {
      "cell_type": "code",
      "execution_count": null,
      "metadata": {
        "id": "Iu5tYvxb_kqI"
      },
      "outputs": [],
      "source": [
        "# --- Your code for 7 a) here ---"
      ]
    },
    {
      "cell_type": "markdown",
      "metadata": {
        "id": "sSymI4IK_kqI"
      },
      "source": [
        "----------"
      ]
    },
    {
      "cell_type": "markdown",
      "metadata": {
        "id": "0Dp1XqCF_kqI"
      },
      "source": [
        "<div class=\"alert alert-block alert-warning\">\n",
        "    <h1><center> BONUS EXERCISES </center></h1>"
      ]
    },
    {
      "cell_type": "markdown",
      "metadata": {
        "id": "PryP-CZb_kqI"
      },
      "source": [
        "- Below are the bonus exercises. You can stop here, and get the \"pass\" grade.\n",
        "- By doing the bonus exercises below, you can get a \"pass with honors\", which means you will get one point bonus for the exam.\n",
        "\n",
        "The following exercises are more challenging and not as straight-forward and may require some research of your own. However, perfect written answers are not required, but answers that show that you have tried to understand the problems and explain them with your own words."
      ]
    },
    {
      "cell_type": "markdown",
      "metadata": {
        "id": "bea2hNxp3BPv"
      },
      "source": [
        "____________\n",
        "##  <font color = dollargreen > 8. BONUS: Dimensionality reduction and plotting with PCA </font>\n",
        "In the lectures, PCA was introduced as a dimensionality reduction technique. Here we will use it to reduce the dimensionality of the numeric features of this dataset and use the resulting compressed view of the dataset to plot it. This means you have to, run PCA  and then project the data you used to fit the PCA to the new space, where the principal components are the axes.\n",
        "____________"
      ]
    },
    {
      "cell_type": "markdown",
      "metadata": {
        "id": "VkrITFMU_kqI"
      },
      "source": [
        "-------------\n",
        "**8 a)** Do PCA with two components with and without z-score standardization **for the numeric features in the data**."
      ]
    },
    {
      "cell_type": "code",
      "execution_count": null,
      "metadata": {
        "id": "uYrWkN2L_kqI"
      },
      "outputs": [],
      "source": [
        "# --- Your for 8 a) code here --- #"
      ]
    },
    {
      "cell_type": "markdown",
      "metadata": {
        "id": "dV_UOAT0_kqJ"
      },
      "source": [
        "-------------\n",
        "\n",
        "\n",
        "**8 b) Plot the data, projected on to the PCA space as a scatterplot, the x-axis being one component and y the other. **Add the total explained variance to your plot as an annotation**. See the documentation of the pca method on how to get the explained variance.\n",
        "\n",
        "- _Tip: It may be easier to try the seaborn scatterplot for this one. For help see documentation on how to do annotation (see tutorial). The total explained variance is the sum of both the components explained variance_.\n",
        "\n",
        "- _Tip2_: Depending on how you approach annotating the plot, you might have to cast the feature name to be a string. One nice way to format values in python is the f - formatting string, which allows you to insert expressions inside strings (see example below):\n",
        "\n",
        "\n",
        "\n",
        "------\n",
        "name = Valtteri<br>\n",
        "print(f\"hello_{name}\")\n",
        "\n",
        "---------\n",
        "You can also set the number of wanted decimals for floats<br>\n",
        "For example f'{float_variable:.2f}' would result in 2 decimals making it to the string created\n",
        "\n",
        "----------"
      ]
    },
    {
      "cell_type": "code",
      "execution_count": null,
      "metadata": {
        "id": "u34fQiOH_kqJ"
      },
      "outputs": [],
      "source": [
        "# --- Your code for 8 b) --- you can make more cells if you like ---"
      ]
    },
    {
      "cell_type": "markdown",
      "metadata": {
        "id": "vI0NIHNo_kqK"
      },
      "source": [
        "\n",
        "\n",
        "**8 c) Gather information for the next part of the exercise and print out the following things:**\n",
        "- First, the standard deviation of the original data features (not standardized, and with the numeric features only).\n",
        "- Second, the standard deviation of the standardized numeric features"
      ]
    },
    {
      "cell_type": "code",
      "execution_count": null,
      "metadata": {
        "id": "UZNGyOR4_kqK"
      },
      "outputs": [],
      "source": [
        "# --- Your code for 8 c) here --- #"
      ]
    },
    {
      "cell_type": "markdown",
      "metadata": {
        "id": "1E4OaFlz_kqK"
      },
      "source": [
        "----------\n",
        "**8 d) Look at the output above and the explained variance information you added as annotations to the plots. Try to think about the following questions and give a short answer of what you think has happened:**\n",
        "\n",
        "1. Where do you think the difference between the amounts of explained variance might come from?\n",
        "\n",
        "2. Can you say something about why it is important to scale the features for PCA by looking at the evidence youve gathered?\n",
        "\n",
        "__Answer in your own words, here it is not important to get the perfect answer but to try to think and figure out what has happened__\n",
        "\n",
        "------------"
      ]
    },
    {
      "cell_type": "markdown",
      "metadata": {
        "id": "vGxNldhDoC6e"
      },
      "source": [
        "<font color=\"green\">Your answer for 8 d)</font>"
      ]
    },
    {
      "cell_type": "markdown",
      "metadata": {
        "id": "TZp1Hrm2_kqK"
      },
      "source": [
        "------------------\n",
        "\n",
        "## <font color = dollargreen > 9. Bonus: t-SNE and high dimensional data </font>"
      ]
    },
    {
      "cell_type": "markdown",
      "metadata": {
        "id": "2Qh5Dqe2_kqK"
      },
      "source": [
        "Another method that can be used to plot high-dimensional data introduced in the lectures was t-distributed Stochastic Neighbor Embedding (t-SNE)."
      ]
    },
    {
      "cell_type": "markdown",
      "metadata": {
        "id": "qtDyOtjd_kqL"
      },
      "source": [
        "***9 a)*** Run t-SNE for both standardized and non standardized data (as you did with PCA)."
      ]
    },
    {
      "cell_type": "code",
      "execution_count": null,
      "metadata": {
        "id": "6QRLnCUx_kqL"
      },
      "outputs": [],
      "source": [
        "# --- Your code for 9 a) here --- #"
      ]
    },
    {
      "cell_type": "markdown",
      "metadata": {
        "id": "DDko4dYb_kqL"
      },
      "source": [
        "***9 b)*** Plot t-sne, similarly to PCA making the color of the points correspond to the levels of the cardio feature, but having only numerical features as a basis of the T-SNE.  "
      ]
    },
    {
      "cell_type": "code",
      "execution_count": null,
      "metadata": {
        "id": "onFIgIN5_kqL"
      },
      "outputs": [],
      "source": [
        "# --- Code for 9 b) --- #"
      ]
    },
    {
      "cell_type": "markdown",
      "metadata": {
        "id": "iLRIon1t_kqL"
      },
      "source": [
        "***9 c)***\n",
        "\n",
        "- What do you think might have happened between the two runs of t-SNE on unstandardized and standardized data? Why is it important to standardize before using the algorithm?\n",
        "\n",
        "_Here the aim is to think about this and learn, not come up with a perfect explanation. Googling is encouraged. Think about whether t-sne is a distance based algorithm or not?_"
      ]
    },
    {
      "cell_type": "markdown",
      "metadata": {
        "id": "i1XW_cb4oY8o"
      },
      "source": [
        "<font color=\"green\">Your answer for 9 c)</font>"
      ]
    },
    {
      "cell_type": "code",
      "execution_count": null,
      "metadata": {
        "id": "SZY8Vbotoac_"
      },
      "outputs": [],
      "source": []
    }
  ],
  "metadata": {
    "colab": {
      "provenance": []
    },
    "kernelspec": {
      "display_name": "Python 3 (ipykernel)",
      "language": "python",
      "name": "python3"
    },
    "language_info": {
      "codemirror_mode": {
        "name": "ipython",
        "version": 3
      },
      "file_extension": ".py",
      "mimetype": "text/x-python",
      "name": "python",
      "nbconvert_exporter": "python",
      "pygments_lexer": "ipython3",
      "version": "3.10.2"
    },
    "toc": {
      "base_numbering": 1,
      "nav_menu": {
        "height": "180px",
        "width": "160px"
      },
      "number_sections": false,
      "sideBar": true,
      "skip_h1_title": true,
      "title_cell": "Table of Contents",
      "title_sidebar": "Contents",
      "toc_cell": false,
      "toc_position": {},
      "toc_section_display": true,
      "toc_window_display": true
    },
    "vscode": {
      "interpreter": {
        "hash": "4cdc8ea89cab9d4240f0393b0b9df34871fbe5edc253fba5d3250d46e4800e67"
      }
    }
  },
  "nbformat": 4,
  "nbformat_minor": 0
}
